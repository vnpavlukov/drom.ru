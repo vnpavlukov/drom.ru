{
 "cells": [
  {
   "cell_type": "code",
   "execution_count": 1,
   "metadata": {},
   "outputs": [],
   "source": [
    "import requests\n",
    "from time import sleep\n",
    "from bs4 import BeautifulSoup\n",
    "\n",
    "MANE_PAGE_YFA = 'https://ufa.drom.ru/auto/all/?minprice=950000&unsold=1&distance=200&order=price'\n",
    "\n",
    "WEB_HEADERS = {'authority': 'www.domofond.ru', 'cache-control': 'max-age=0',\n",
    "               'upgrade-insecure-requests': '1',\n",
    "               'user-agent': 'Mozilla/5.0 (Windows NT 10.0; Win64; x64) AppleWeb'\n",
    "                             'Kit/537.36 (KHTML, like Gecko) Chrome/83.0.4103.11'\n",
    "                             '6 Safari/537.36',\n",
    "               'accept': 'text/html,application/xhtml+xml,application/xml;q=0.9,'\n",
    "                         'image/webp,image/apng,*/*;q=0.8,application/signed-'\n",
    "                         'exchange;v=b3;q=0.9',\n",
    "               'sec-fetch-site': 'none', 'sec-fetch-mode': 'navigate',\n",
    "               'sec-fetch-user': '?1', 'sec-fetch-dest': 'document',\n",
    "               'accept-language': 'en-US,en;q=0.9,ru-RU;q=0.8,ru;q=0.7'}\n",
    "\n",
    "\n",
    "def html_response(url, headers):\n",
    "    for _ in range(3):\n",
    "        try:\n",
    "            response = requests.get(url, headers=headers)\n",
    "            return response.text\n",
    "        except ConnectionError or TimeoutError or ConnectionResetError:\n",
    "            print(\"\\n*****ConnectionError, TimeoutError or ConnectionResetError*\"\n",
    "                  \"****\\n\\nI will retry again after 7 seconds...\")\n",
    "            sleep(7)\n",
    "            print('Making another request...')\n",
    "\n",
    "\n",
    "first_page_response = html_response(MANE_PAGE_YFA, WEB_HEADERS)"
   ]
  },
  {
   "cell_type": "code",
   "execution_count": 3,
   "metadata": {},
   "outputs": [
    {
     "name": "stdout",
     "output_type": "stream",
     "text": [
      "1 {'brand_model': 'Land Rover Freelander', 'year': '2012', 'power': '150'}\n",
      "2 {'brand_model': 'Kia Rio', 'year': '2019', 'power': '123'}\n",
      "3 {'brand_model': 'Mercedes-Benz M-Class', 'year': '2005', 'power': '272'}\n",
      "4 {'brand_model': 'BMW X6', 'year': '2008', 'power': '306'}\n",
      "5 {'brand_model': 'Skoda Octavia', 'year': '2017', 'power': '110'}\n",
      "6 {'brand_model': 'Hyundai Creta', 'year': '2016', 'power': '123'}\n",
      "7 {'brand_model': 'Nissan Murano', 'year': '2012', 'power': '123'}\n",
      "8 {'brand_model': 'Nissan X-Trail', 'year': '2011', 'power': '150'}\n",
      "9 {'brand_model': 'Chevrolet Captiva', 'year': '2014', 'power': '167'}\n",
      "10 {'brand_model': 'Hyundai Grand Starex', 'year': '2008', 'power': '145'}\n",
      "11 {'brand_model': 'Nissan Terrano', 'year': '2017', 'power': '143'}\n",
      "12 {'brand_model': 'Skoda Yeti', 'year': '2016', 'power': '110'}\n",
      "13 {'brand_model': 'Kia Rio', 'year': '2020', 'power': '123'}\n",
      "14 {'brand_model': 'Kia Rio', 'year': '2020', 'power': '100'}\n",
      "15 {'brand_model': 'Hyundai Solaris', 'year': '2020', 'power': '100'}\n",
      "16 {'brand_model': 'Hyundai Solaris', 'year': '2020', 'power': '100'}\n",
      "17 {'brand_model': 'Hyundai Solaris', 'year': '2020', 'power': '100'}\n",
      "18 {'brand_model': 'Hyundai Solaris', 'year': '2020', 'power': '100'}\n",
      "19 {'brand_model': 'Hyundai Solaris', 'year': '2020', 'power': '100'}\n",
      "20 {'brand_model': 'Hyundai Solaris', 'year': '2020', 'power': '100'}\n"
     ]
    }
   ],
   "source": [
    "def parse_brand_year_power(response):\n",
    "    soup = BeautifulSoup(response, 'html.parser')\n",
    "    main_page_data = []\n",
    "    for full_header in soup.find_all('a', class_=\"css-1hgk7d1 eiweh7o2\"):\n",
    "        split_header = full_header.text.split(', ')\n",
    "        brand_model = split_header[0]\n",
    "        year = split_header[1][0:4]\n",
    "        odometer = split_header[1]\n",
    "\n",
    "        for i in split_header:\n",
    "            if 'л.с.' in i:\n",
    "                power = i.rsplit('(')[-1][:-6]\n",
    "\n",
    "        main_page_data.append({'brand_model': brand_model, 'year': year, 'power': power})\n",
    "    return main_page_data\n",
    "\n",
    "\n",
    "brand_year_power = parse_brand_year_power(first_page_response)\n",
    "n = 0\n",
    "for i in brand_year_power:\n",
    "    n += 1\n",
    "    print(n, i)"
   ]
  },
  {
   "cell_type": "code",
   "execution_count": 4,
   "metadata": {},
   "outputs": [
    {
     "name": "stdout",
     "output_type": "stream",
     "text": [
      "1 950 000\n",
      "2 950 000\n",
      "3 950 000\n",
      "4 950 000\n",
      "5 950 000\n",
      "6 950 000\n",
      "7 950 000\n",
      "8 950 000\n",
      "9 950 000\n",
      "10 950 000\n",
      "11 950 000\n",
      "12 950 000\n",
      "13 950 900\n",
      "14 950 900\n",
      "15 951 000\n",
      "16 951 000\n",
      "17 951 000\n",
      "18 951 000\n",
      "19 951 000\n",
      "20 951 000\n"
     ]
    }
   ],
   "source": [
    "def parse_prices(response):\n",
    "    soup = BeautifulSoup(response, 'html.parser')\n",
    "    prices_list = list()\n",
    "    for price in soup.find_all('span', class_=\"css-jnatj e162wx9x0\"):\n",
    "        prices_list.append(price.text[:-2])\n",
    "    return prices_list\n",
    "\n",
    "\n",
    "cars_prices = parse_prices(first_page_response)\n",
    "n = 0      \n",
    "for i in cars_prices:\n",
    "    n += 1\n",
    "    print(n, i)"
   ]
  },
  {
   "cell_type": "code",
   "execution_count": 5,
   "metadata": {},
   "outputs": [
    {
     "name": "stdout",
     "output_type": "stream",
     "text": [
      "[{'brand_model': 'Land Rover Freelander', 'year': '2012', 'power': '150', 'price': '950 000'}, {'brand_model': 'Kia Rio', 'year': '2019', 'power': '123', 'price': '950 000'}, {'brand_model': 'Mercedes-Benz M-Class', 'year': '2005', 'power': '272', 'price': '950 000'}, {'brand_model': 'BMW X6', 'year': '2008', 'power': '306', 'price': '950 000'}, {'brand_model': 'Skoda Octavia', 'year': '2017', 'power': '110', 'price': '950 000'}, {'brand_model': 'Hyundai Creta', 'year': '2016', 'power': '123', 'price': '950 000'}, {'brand_model': 'Nissan Murano', 'year': '2012', 'power': '123', 'price': '950 000'}, {'brand_model': 'Nissan X-Trail', 'year': '2011', 'power': '150', 'price': '950 000'}, {'brand_model': 'Chevrolet Captiva', 'year': '2014', 'power': '167', 'price': '950 000'}, {'brand_model': 'Hyundai Grand Starex', 'year': '2008', 'power': '145', 'price': '950 000'}, {'brand_model': 'Nissan Terrano', 'year': '2017', 'power': '143', 'price': '950 000'}, {'brand_model': 'Skoda Yeti', 'year': '2016', 'power': '110', 'price': '950 000'}, {'brand_model': 'Kia Rio', 'year': '2020', 'power': '123', 'price': '950 900'}, {'brand_model': 'Kia Rio', 'year': '2020', 'power': '100', 'price': '950 900'}, {'brand_model': 'Hyundai Solaris', 'year': '2020', 'power': '100', 'price': '951 000'}, {'brand_model': 'Hyundai Solaris', 'year': '2020', 'power': '100', 'price': '951 000'}, {'brand_model': 'Hyundai Solaris', 'year': '2020', 'power': '100', 'price': '951 000'}, {'brand_model': 'Hyundai Solaris', 'year': '2020', 'power': '100', 'price': '951 000'}, {'brand_model': 'Hyundai Solaris', 'year': '2020', 'power': '100', 'price': '951 000'}, {'brand_model': 'Hyundai Solaris', 'year': '2020', 'power': '100', 'price': '951 000'}]\n"
     ]
    }
   ],
   "source": [
    "brand_year_power_prices = []\n",
    "for data, price in zip(brand_year_power, cars_prices):\n",
    "    data['price'] = price\n",
    "    brand_year_power_prices.append(data)\n",
    "print(brand_year_power_prices)"
   ]
  },
  {
   "cell_type": "code",
   "execution_count": 8,
   "metadata": {},
   "outputs": [
    {
     "name": "stdout",
     "output_type": "stream",
     "text": [
      "1 Уфа\n",
      "2 Уфа\n",
      "3 Уфа\n",
      "4 Иглино\n",
      "5 Уфа\n",
      "6 Уфа\n",
      "7 Уфа\n",
      "8 Белебей\n",
      "9 Уфа\n",
      "10 Уфа\n",
      "11 Уфа\n",
      "12 Уфа\n",
      "13 Уфа\n",
      "14 Уфа\n",
      "15 Уфа\n",
      "16 Уфа\n",
      "17 Уфа\n",
      "18 Уфа\n",
      "19 Уфа\n",
      "20 Уфа\n"
     ]
    }
   ],
   "source": [
    "def parse_cities(response):\n",
    "    soup = BeautifulSoup(response, 'html.parser')\n",
    "    rating_values = list()\n",
    "    for rating in  soup.find_all('span', class_=\"css-17qid0e e162wx9x0\"):\n",
    "        rating_values.append(rating.text.split()[0])\n",
    "    return rating_values\n",
    "\n",
    "\n",
    "cities = parse_cities(first_page_response)\n",
    "\n",
    "n = 0\n",
    "for i in cities:\n",
    "    n += 1\n",
    "    print(n, i)"
   ]
  },
  {
   "cell_type": "code",
   "execution_count": 9,
   "metadata": {},
   "outputs": [
    {
     "name": "stdout",
     "output_type": "stream",
     "text": [
      "[{'brand_model': 'Land Rover Freelander', 'year': '2012', 'power': '150', 'price': '950 000', 'city': 'Уфа'}, {'brand_model': 'Kia Rio', 'year': '2019', 'power': '123', 'price': '950 000', 'city': 'Уфа'}, {'brand_model': 'Mercedes-Benz M-Class', 'year': '2005', 'power': '272', 'price': '950 000', 'city': 'Уфа'}, {'brand_model': 'BMW X6', 'year': '2008', 'power': '306', 'price': '950 000', 'city': 'Иглино'}, {'brand_model': 'Skoda Octavia', 'year': '2017', 'power': '110', 'price': '950 000', 'city': 'Уфа'}, {'brand_model': 'Hyundai Creta', 'year': '2016', 'power': '123', 'price': '950 000', 'city': 'Уфа'}, {'brand_model': 'Nissan Murano', 'year': '2012', 'power': '123', 'price': '950 000', 'city': 'Уфа'}, {'brand_model': 'Nissan X-Trail', 'year': '2011', 'power': '150', 'price': '950 000', 'city': 'Белебей'}, {'brand_model': 'Chevrolet Captiva', 'year': '2014', 'power': '167', 'price': '950 000', 'city': 'Уфа'}, {'brand_model': 'Hyundai Grand Starex', 'year': '2008', 'power': '145', 'price': '950 000', 'city': 'Уфа'}, {'brand_model': 'Nissan Terrano', 'year': '2017', 'power': '143', 'price': '950 000', 'city': 'Уфа'}, {'brand_model': 'Skoda Yeti', 'year': '2016', 'power': '110', 'price': '950 000', 'city': 'Уфа'}, {'brand_model': 'Kia Rio', 'year': '2020', 'power': '123', 'price': '950 900', 'city': 'Уфа'}, {'brand_model': 'Kia Rio', 'year': '2020', 'power': '100', 'price': '950 900', 'city': 'Уфа'}, {'brand_model': 'Hyundai Solaris', 'year': '2020', 'power': '100', 'price': '951 000', 'city': 'Уфа'}, {'brand_model': 'Hyundai Solaris', 'year': '2020', 'power': '100', 'price': '951 000', 'city': 'Уфа'}, {'brand_model': 'Hyundai Solaris', 'year': '2020', 'power': '100', 'price': '951 000', 'city': 'Уфа'}, {'brand_model': 'Hyundai Solaris', 'year': '2020', 'power': '100', 'price': '951 000', 'city': 'Уфа'}, {'brand_model': 'Hyundai Solaris', 'year': '2020', 'power': '100', 'price': '951 000', 'city': 'Уфа'}, {'brand_model': 'Hyundai Solaris', 'year': '2020', 'power': '100', 'price': '951 000', 'city': 'Уфа'}]\n"
     ]
    }
   ],
   "source": [
    "brand_year_power_prices_cities = []\n",
    "for data, city in zip(brand_year_power_prices, cities):\n",
    "    data['city'] = city\n",
    "    brand_year_power_prices_cities.append(data)\n",
    "print(brand_year_power_prices_cities)"
   ]
  },
  {
   "cell_type": "code",
   "execution_count": 20,
   "metadata": {},
   "outputs": [
    {
     "name": "stdout",
     "output_type": "stream",
     "text": [
      "https://ufa.drom.ru/land_rover/freelander/38618914.html\n",
      "https://ufa.drom.ru/kia/rio/38699259.html\n",
      "https://ufa.drom.ru/mercedes-benz/m-class/38921037.html\n",
      "https://iglino.drom.ru/bmw/x6/39252536.html\n",
      "https://ufa.drom.ru/skoda/octavia/39274497.html\n",
      "https://ufa.drom.ru/hyundai/creta/39565470.html\n",
      "https://ufa.drom.ru/nissan/murano/39893934.html\n",
      "https://balebey.drom.ru/nissan/x-trail/39904959.html\n",
      "https://ufa.drom.ru/chevrolet/captiva/39998980.html\n",
      "https://ufa.drom.ru/hyundai/grand_starex/40033258.html\n",
      "https://ufa.drom.ru/nissan/terrano/40033913.html\n",
      "https://ufa.drom.ru/skoda/yeti/40054286.html\n",
      "https://ufa.drom.ru/kia/rio/39848650.html\n",
      "https://ufa.drom.ru/kia/rio/40086803.html\n",
      "https://ufa.drom.ru/hyundai/solaris/39806265.html\n",
      "https://ufa.drom.ru/hyundai/solaris/39806268.html\n",
      "https://ufa.drom.ru/hyundai/solaris/39830892.html\n",
      "https://ufa.drom.ru/hyundai/solaris/40066561.html\n",
      "https://ufa.drom.ru/hyundai/solaris/40066565.html\n",
      "https://ufa.drom.ru/hyundai/solaris/40066566.html\n"
     ]
    }
   ],
   "source": [
    "def parse_urls(response):\n",
    "    soup = BeautifulSoup(response, 'html.parser')    \n",
    "    first = soup.find('div', class_='css-10ib5jr e93r9u20')\n",
    "    for i in first.find_all('a', class_='css-1hgk7d1 eiweh7o2'):\n",
    "        print(i.get('href'))\n",
    "        \n",
    "\n",
    "parse_urls(first_page_response)"
   ]
  },
  {
   "cell_type": "code",
   "execution_count": null,
   "metadata": {},
   "outputs": [],
   "source": []
  }
 ],
 "metadata": {
  "kernelspec": {
   "display_name": "Python 3",
   "language": "python",
   "name": "python3"
  },
  "language_info": {
   "codemirror_mode": {
    "name": "ipython",
    "version": 3
   },
   "file_extension": ".py",
   "mimetype": "text/x-python",
   "name": "python",
   "nbconvert_exporter": "python",
   "pygments_lexer": "ipython3",
   "version": "3.8.0"
  }
 },
 "nbformat": 4,
 "nbformat_minor": 4
}
